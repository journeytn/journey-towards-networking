{
 "cells": [
  {
   "cell_type": "code",
   "execution_count": 3,
   "id": "9af36751-cd87-46a0-918c-d115189b27b3",
   "metadata": {},
   "outputs": [],
   "source": [
    "import json\n",
    "import os, sys\n",
    "sys.path.insert(1, '/media/G/script/libRCK')\n",
    "import functions_reckonect_V2 as rck\n",
    "\n",
    "%load_ext autoreload\n",
    "%autoreload 2\n",
    "%config Completer.use_jedi = False\n",
    "\n",
    "from pymongo import MongoClient\n",
    "client = MongoClient(rck.config.mongo.mongoIp, rck.config.mongo.port)"
   ]
  },
  {
   "cell_type": "code",
   "execution_count": 4,
   "id": "9e43c6d0-fc39-4d51-9722-b8e83b48b9a3",
   "metadata": {},
   "outputs": [],
   "source": [
    "import pandas as pd\n",
    "import networkx as nx\n",
    "import pickle as pkl"
   ]
  },
  {
   "cell_type": "markdown",
   "id": "1862542e-d7be-42b0-92cd-5152ad885219",
   "metadata": {},
   "source": [
    "### list entité  + mapping vers Id d'origine"
   ]
  },
  {
   "cell_type": "code",
   "execution_count": 5,
   "id": "392a9f59-4653-4c08-b747-b4d68091b0cd",
   "metadata": {},
   "outputs": [],
   "source": [
    "# list protein\n",
    "mapP2UNIPROT = {i:P for i, P in enumerate(rck.list_of_Id('UNIPROT'))}\n",
    "mapUNIPROT2P = {}\n",
    "for P, UNIPROT in mapP2UNIPROT.items(): mapUNIPROT2P[UNIPROT] = P\n",
    "mapUNIPROT2PrefName = rck.relation_Id_Id('prefName', 'UNIPROT', rck.list_of_Id('UNIPROT'), lowercase=False)\n",
    "mapP2PrefName = {P:mapUNIPROT2PrefName[UNIPROT] for P, UNIPROT in mapP2UNIPROT.items()}\n",
    "pkl.dump(mapP2UNIPROT, open(\"mapP2UNIPROT.pkl\", 'wb'))\n",
    "pkl.dump(mapP2PrefName, open(\"mapP2PrefName.pkl\", 'wb'))\n",
    "\n",
    "# list GOBP\n",
    "mapGOBP2PrefName = rck.relation_Id_Id('prefName', 'GO', rck.list_of_Id('GOBP'), lowercase=False, normalizeId=False)\n",
    "pkl.dump(mapGOBP2PrefName, open(\"mapGOBP2PrefName.pkl\", 'wb'))\n",
    "\n",
    "# list Ch\n",
    "mapC2Ch = {i:P for i, P in enumerate(rck.list_of_Id('Ch'))}\n",
    "mapCh2C = {}\n",
    "for C, Ch in mapC2Ch.items(): mapCh2C[Ch] = C\n",
    "mapCh2PrefName = rck.relation_Id_Id('prefName', 'Ch', rck.list_of_Id('Ch'), lowercase=False, normalizeId=False)\n",
    "mapC2PrefName = {C:mapCh2PrefName[Ch] for C, Ch in mapC2Ch.items()}\n",
    "pkl.dump(mapC2PrefName, open(\"mapC2PrefName.pkl\", 'wb'))"
   ]
  },
  {
   "cell_type": "markdown",
   "id": "b89c5a6d-8388-426d-aea5-a10bb5a27323",
   "metadata": {},
   "source": [
    "### relation entre entités"
   ]
  },
  {
   "cell_type": "code",
   "execution_count": 42,
   "id": "67aa918b-44b5-456c-a633-3e147f8b0246",
   "metadata": {},
   "outputs": [],
   "source": [
    "# relation GOBP -> UNIPROT\n",
    "relGOBP2lP, relP2lGOBP = {}, {}\n",
    "for UNIPROT, GOBP, _ in rck.relation_Id_Id(\"curation\",          type1=\"UNIPROT\",     type2=\"GOBP\",       lIn1=rck.list_of_Id('UNIPROT'),       lIn2=rck.list_of_Id('GOBP')): \n",
    "    relGOBP2lP.setdefault(int(GOBP[3:]), set()).add(mapUNIPROT2P[UNIPROT])\n",
    "    relP2lGOBP.setdefault(mapUNIPROT2P[UNIPROT], set()).add(int(GOBP[3:]))\n",
    "pkl.dump(relGOBP2lP, open(\"relGOBP2lP.pkl\", 'wb'))\n",
    "pkl.dump(relP2lGOBP, open(\"relP2lGOBP.pkl\", 'wb'))"
   ]
  },
  {
   "cell_type": "code",
   "execution_count": 31,
   "id": "1bbefd5e-e943-407d-9a19-61e221fe172c",
   "metadata": {},
   "outputs": [],
   "source": [
    "# relation protein-protein dans networkx\n",
    "GraphPPi = nx.Graph()\n",
    "for UNIPROT1, UNIPROT2 in pkl.load(open(rck.config.PPi.GraphPath, 'rb')).edges(): \n",
    "    if mapUNIPROT2P[UNIPROT1]== mapUNIPROT2P[UNIPROT2]: continue\n",
    "    GraphPPi.add_edge(mapUNIPROT2P[UNIPROT1],  mapUNIPROT2P[UNIPROT2])  \n",
    "# GraphPPi = nx.relabel_nodes(GraphPPi, mapP2PrefName)\n",
    "pkl.dump(GraphPPi, open(\"GraphPPi.pkl\", 'wb'))"
   ]
  },
  {
   "cell_type": "code",
   "execution_count": 39,
   "id": "2d56df15-be72-4476-b694-7fee513176da",
   "metadata": {},
   "outputs": [],
   "source": [
    "# curation chimique protein\n",
    "l = rck.relation_Id_Id(\"curation\",          type1='Ch',        type2='UNIPROT')\n",
    "l2 = [(mapUNIPROT2P[UNIPROT], mapCh2C[Ch]) for Ch, UNIPROT, _ in l]\n",
    "relC2lP, relP2lC = {}, {}\n",
    "for P, C in l2:\n",
    "    relC2lP.setdefault(C, set()).add(P)\n",
    "    relP2lC.setdefault(P, set()).add(C)\n",
    "pkl.dump(relC2lP, open(\"relC2lP.pkl\", 'wb'))\n",
    "pkl.dump(relP2lC, open(\"relP2lC.pkl\", 'wb'))"
   ]
  },
  {
   "cell_type": "code",
   "execution_count": null,
   "id": "0c2e809f-7792-4ec3-9391-00a6fd584715",
   "metadata": {},
   "outputs": [],
   "source": [
    "# drugCentral Ch -> MESH\n",
    "l = rck.relation_Id_Id('drugCentral', type1='Ch',          type2='MESH')"
   ]
  },
  {
   "cell_type": "code",
   "execution_count": 51,
   "id": "6a053c7f-6704-4815-9417-16a9b827900b",
   "metadata": {},
   "outputs": [
    {
     "name": "stdout",
     "output_type": "stream",
     "text": [
      "3203\n"
     ]
    }
   ],
   "source": [
    "lMESH = set()\n",
    "for Ch, MESH, _ in l: lMESH.add(MESH)\n",
    "\n",
    "mapM2MESH = {i:M for i, M in enumerate(lMESH)}\n",
    "mapMESH2M = {}\n",
    "for M, MESH in mapM2MESH.items(): mapMESH2M[MESH] = M\n",
    "\n",
    "mapMESH2PrefName = rck.relation_Id_Id('prefName', 'MESH', lMESH, lowercase=False, normalizeId=False)\n",
    "mapM2PrefName = {M:mapMESH2PrefName[MESH] for M, MESH in mapM2MESH.items()}\n",
    "pkl.dump(mapM2PrefName, open(\"mapM2PrefName.pkl\", 'wb'))\n",
    "\n",
    "relC2M = {}\n",
    "for Ch, MESH, _ in l: relC2M.setdefault(mapCh2C[Ch], set()).add(mapMESH2M[MESH])\n",
    "pkl.dump(relC2M, open(\"relC2M.pkl\", 'wb'))"
   ]
  },
  {
   "cell_type": "code",
   "execution_count": 43,
   "id": "44bb3212-8191-4f87-bde9-c05b9ddfd187",
   "metadata": {},
   "outputs": [],
   "source": []
  },
  {
   "cell_type": "code",
   "execution_count": 44,
   "id": "cf9711f3-6d20-4900-90aa-4a9dc2d40493",
   "metadata": {},
   "outputs": [
    {
     "data": {
      "text/plain": [
       "115583"
      ]
     },
     "execution_count": 44,
     "metadata": {},
     "output_type": "execute_result"
    }
   ],
   "source": [
    "len(l)"
   ]
  },
  {
   "cell_type": "code",
   "execution_count": 45,
   "id": "45506d10-0cfe-43f1-93b7-1035fa9ab677",
   "metadata": {},
   "outputs": [
    {
     "data": {
      "text/plain": [
       "('C570',\n",
       " 'D004890',\n",
       " {'l': [{'CID': 137,\n",
       "    'd': {'i': {'lr': 124.004, 'n1': 52, 'n2': 237588, 'n4': 85011222}}},\n",
       "   {'CID': 7048523,\n",
       "    'd': {'i': {'lr': 124.004, 'n1': 52, 'n2': 237588, 'n4': 85011222}}}]})"
      ]
     },
     "execution_count": 45,
     "metadata": {},
     "output_type": "execute_result"
    }
   ],
   "source": [
    "l[0]"
   ]
  },
  {
   "cell_type": "code",
   "execution_count": null,
   "id": "a54ff332-46cf-4b30-8855-12d05c0ece50",
   "metadata": {},
   "outputs": [],
   "source": []
  },
  {
   "cell_type": "code",
   "execution_count": null,
   "id": "197564a5-3073-4a09-a4a5-ff8073f53352",
   "metadata": {},
   "outputs": [],
   "source": []
  },
  {
   "cell_type": "code",
   "execution_count": null,
   "id": "4b302a9b-0bdf-42ab-837a-599cb9fa11a7",
   "metadata": {},
   "outputs": [],
   "source": []
  },
  {
   "cell_type": "code",
   "execution_count": null,
   "id": "a0347f59-b66e-4325-812d-ddc5320544ec",
   "metadata": {},
   "outputs": [],
   "source": []
  }
 ],
 "metadata": {
  "kernelspec": {
   "display_name": "Python 3 (ipykernel)",
   "language": "python",
   "name": "python3"
  },
  "language_info": {
   "codemirror_mode": {
    "name": "ipython",
    "version": 3
   },
   "file_extension": ".py",
   "mimetype": "text/x-python",
   "name": "python",
   "nbconvert_exporter": "python",
   "pygments_lexer": "ipython3",
   "version": "3.7.13"
  },
  "widgets": {
   "application/vnd.jupyter.widget-state+json": {
    "state": {},
    "version_major": 2,
    "version_minor": 0
   }
  }
 },
 "nbformat": 4,
 "nbformat_minor": 5
}
